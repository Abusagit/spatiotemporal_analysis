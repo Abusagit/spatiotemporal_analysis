{
 "cells": [
  {
   "cell_type": "code",
   "execution_count": 11,
   "metadata": {},
   "outputs": [],
   "source": [
    "import numpy as np\n",
    "import pandas\n",
    "import plotly.express as px\n",
    "\n",
    "from pathlib import Path\n",
    "\n",
    "DATA_DIR = Path(\"../data/\")\n"
   ]
  },
  {
   "cell_type": "code",
   "execution_count": 12,
   "metadata": {},
   "outputs": [],
   "source": [
    "A = np.array([1, 2, 3, 4])"
   ]
  },
  {
   "cell_type": "markdown",
   "metadata": {},
   "source": []
  },
  {
   "cell_type": "markdown",
   "metadata": {},
   "source": [
    "## Dimensionality of data\n",
    "\n",
    "$x \\times b$"
   ]
  },
  {
   "cell_type": "code",
   "execution_count": 14,
   "metadata": {},
   "outputs": [],
   "source": [
    "def read_dataset_file(path: Path):\n",
    "    return np.load(file=path, allow_pickle=True)\n",
    "\n",
    "metr_la = read_dataset_file(DATA_DIR / \"metr_la_new.npz\")"
   ]
  },
  {
   "cell_type": "code",
   "execution_count": 15,
   "metadata": {},
   "outputs": [
    {
     "data": {
      "text/plain": [
       "['num_timestamps',\n",
       " 'num_nodes',\n",
       " 'first_timestamp_datetime',\n",
       " 'last_timestamp_datetime',\n",
       " 'timestamp_frequency',\n",
       " 'targets',\n",
       " 'train_timestamps',\n",
       " 'val_timestamps',\n",
       " 'test_timestamps',\n",
       " 'temporal_node_features',\n",
       " 'temporal_node_feature_names',\n",
       " 'spatial_node_features',\n",
       " 'spatial_node_feature_names',\n",
       " 'spatiotemporal_node_features',\n",
       " 'spatiotemporal_node_feature_names',\n",
       " 'num_feature_names',\n",
       " 'bin_feature_names',\n",
       " 'cat_feature_names',\n",
       " 'coordinate_feature_names',\n",
       " 'unix_timestamps',\n",
       " 'edges',\n",
       " 'edges_knn3',\n",
       " 'edges_knn5',\n",
       " 'edges_knn10',\n",
       " 'edges_threshold2500',\n",
       " 'edges_threshold4000',\n",
       " 'edges_threshold5000',\n",
       " 'edges_knn5_threshold5000',\n",
       " 'distance_matrix',\n",
       " 'sensor_ids']"
      ]
     },
     "execution_count": 15,
     "metadata": {},
     "output_type": "execute_result"
    }
   ],
   "source": [
    "list(metr_la.keys())"
   ]
  },
  {
   "cell_type": "code",
   "execution_count": null,
   "metadata": {},
   "outputs": [],
   "source": [
    "EDGES_KEY = \"\""
   ]
  },
  {
   "cell_type": "code",
   "execution_count": 16,
   "metadata": {},
   "outputs": [
    {
     "name": "stdout",
     "output_type": "stream",
     "text": [
      "/Users/artem/python/spatiotemporal_analysis/notebooks\n"
     ]
    }
   ],
   "source": [
    "!pwd"
   ]
  },
  {
   "cell_type": "code",
   "execution_count": 18,
   "metadata": {},
   "outputs": [
    {
     "data": {
      "text/plain": [
       "array([    0,     1,     2, ..., 26205, 26206, 26207], dtype=int32)"
      ]
     },
     "execution_count": 18,
     "metadata": {},
     "output_type": "execute_result"
    }
   ],
   "source": [
    "metr_la[\"train_timestamps\"]"
   ]
  }
 ],
 "metadata": {
  "kernelspec": {
   "display_name": ".venv",
   "language": "python",
   "name": "python3"
  },
  "language_info": {
   "codemirror_mode": {
    "name": "ipython",
    "version": 3
   },
   "file_extension": ".py",
   "mimetype": "text/x-python",
   "name": "python",
   "nbconvert_exporter": "python",
   "pygments_lexer": "ipython3",
   "version": "3.9.6"
  }
 },
 "nbformat": 4,
 "nbformat_minor": 2
}
